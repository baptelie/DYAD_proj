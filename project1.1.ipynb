{
 "cells": [
  {
   "cell_type": "markdown",
   "metadata": {},
   "source": [
    "## Implementing the model with fishing\n",
    "We add fishing in the model, targetting the predator, with an off-target effect on the prey.\n",
    "We note :\n",
    "- $p_F $ the fishing intensity of the preys\n",
    "- $p_N$ the fishing intensity of the predator\n",
    "\n",
    "\n",
    "Assuming $p_F < p_N $\n",
    "\n",
    "\n",
    "\\begin{equation*}\n",
    "\\begin{cases}\n",
    "\\frac{dF_1}{dt} = \\delta_1 (K_1 - F_1(t)) - F_1(t)N(t)uA_1(u) - p_F F_1(t)  & \\text{Density of prey in env. 1} \\\\\n",
    "\\frac{dF_2}{dt} = \\delta_2 (K_2 - F_2(t)) - F_2(t)N(t)(1-u)A_2(u) - p_F F_2(t) & \\text{Density of prey in env. 2} \\\\ \n",
    "\\frac{dN}{dt}  =  (\\beta(u) - \\mu) N(t) - p_N N(t) & \\text{Density of fish}\n",
    "\\end{cases}\n",
    "\\end{equation*}\n",
    "\n",
    "\\begin{equation}\n",
    "\\beta(u) = \n",
    "\\underbrace{F_1(t)}_{\\text{(prey density)}}\n",
    "\\underbrace{A_1(u)}_{\\text{(search rate)}}\n",
    "\\underbrace{u}_{\\text{(time spent)}} + \n",
    "\\underbrace{F_2(t)}_{\\text{(prey density)}}\n",
    "\\underbrace{A_2(u)}_{\\text{(search rate)}}\n",
    "\\underbrace{(1-u)}_{\\text{(time spent)}}\n",
    "\\end{equation}"
   ]
  },
  {
   "cell_type": "markdown",
   "metadata": {},
   "source": [
    "## Hypothesis of the adaptive dynamics\n",
    "- The resident is at equilibrium ($N_r = N_r^*$)\n",
    "- The mutant population is small ($N_m << N_r$)\n",
    "On top of these fundamental hypothesis, we assume here that the dynamics of the prey is faster than the predator's (Quasi-Steady-State, QSS), yielding:\n",
    "\n",
    "\\begin{align*}\n",
    "\\frac{dF_1}{dt} = \\frac{dF_2}{dt} =& 0 \\\\ \n",
    "\\Leftrightarrow& \\begin{cases}\n",
    "F_1^*(N_r, N_m) = \\frac{\\delta_1 K_1}{\\delta_1 + N_r(t)rA_1(r) + N_m(t)mA_1(m) + p_F} & = \\frac{\\delta_1 K_1}{\\delta_1 + N_r^*rA_1(r) + p_F}\\\\\n",
    "F_2^*(N_r, N_m) = \\frac{\\delta_2 K_2}{\\delta_2 + N_r(t)(1-r)A_2(r) + N_m(t)(1-m)A_2(m) + p_F} & = \\frac{\\delta_2 K_2}{\\delta_2 + N_r^*(1-r)A_2(r) + p_F}\\\\\n",
    "\\end{cases}\n",
    "\\end{align*}\n",
    "\n",
    "\n",
    "The system becomes:\n",
    "\n",
    "\\begin{align}\n",
    "\\begin{cases}\n",
    "\\frac{dN_r}{dt} &= [\\beta(r, N_r(t), N_m(t)) - \\mu - p_N] N_r(t)- p_N N_r(t)\\\\\n",
    "\\frac{dN_m}{dt} &= [\\beta(m, N_r(t), N_m(t)) - \\mu - p_N] N_m(t)\\\\\n",
    "\\end{cases}\n",
    "\\end{align}\n",
    "\n",
    "Finding $N_r^*$ is not trivial, we'll do it numerically. Nevertheless we\n",
    "can have a ballpark estimation by considering that\n",
    "$\\delta_1<< A_1(r)N^*$, $\\delta_2<< A_2(r)N^*$, and $p_F<< A_1(r)N^*$ and $A_2(r)N^*$:\n",
    "\n",
    "\\begin{align*}\n",
    "\\beta(r, N_r(t), N_m(t)) - \\mu - p_N&= 0\\\\\n",
    "\\frac{\\delta_1 K_1 A_1(r) r}{A_1(r)rN^*+\\delta_1+p_F} + \\frac{\\delta_2 K_2 A_2(r) r}{A_2(r)rN^*+\\delta_2+p_F} - \\mu - p_N &= 0\\\\\n",
    "\\frac{\\delta_1 K_1 A_1(r) r}{A_1(r)rN^*} + \\frac{\\delta_2 K_2 A_2(r) r}{A_2(r)rN^*}  &\\approx \\mu + p_N\\\\\n",
    "N^* &\\approx \\frac{\\delta_1 K_1 + \\delta_2 K_2}{\\mu + p_N}\\\\\n",
    "\\end{align*}\n",
    "\n",
    "Our goal is to compute the invasion growth rate of a mutant (with trait\n",
    "$m$) in an environment set by a resident (with trait value $r$). We\n",
    "denote this quantity $s_r(m)$.\n",
    "\n",
    "### Invasion fitness of the mutant\n",
    "\n",
    "The invasion fitness $s_r(m)$ is given by:\n",
    "\n",
    "\\begin{align*}\n",
    "s_r(m) =& \\beta(m, N^*, 0) - \\mu - p_N \\\\\n",
    "=& F_1(N^*, 0)mA_1(m) + F_2(N^*, 0)(1-m)A_2(1-m)\\\\\n",
    "\\end{align*}"
   ]
  },
  {
   "cell_type": "markdown",
   "metadata": {},
   "source": [
    "Numerical Pairwise invasibility plot\n",
    "=============================\n",
    "\n",
    "We want to plot the subset of $[0,1]^2$ where:\n",
    "\n",
    "\\begin{equation}\n",
    "s_r(m) > 0 \\;\\; \\text{for} \\;\\; m,r \\in [0,1]^2\n",
    "\\end{equation}\n",
    "\n",
    "You will need the following functions: \n",
    "[`scipy.optimize.fsolve`](https://docs.scipy.org/doc/scipy-0.14.0/reference/generated/scipy.optimize.fsolve.html#scipy-optimize-fsolve),  Use the doc to\n",
    "check what they are doing.\n"
   ]
  },
  {
   "cell_type": "markdown",
   "metadata": {},
   "source": [
    "import numpy as np\n",
    "import scipy.optimize\n",
    "import matplotlib.pyplot as plt\n",
    "from functools import partial"
   ]
  },
  {
   "cell_type": "code",
   "execution_count": 7,
   "metadata": {},
   "outputs": [],
   "source": [
    "import numpy as np\n",
    "import scipy.optimize\n",
    "import matplotlib.pyplot as plt\n",
    "from functools import partial"
   ]
  },
  {
   "cell_type": "code",
   "execution_count": 33,
   "metadata": {},
   "outputs": [],
   "source": [
    "p_common = { \"b2\":0, 'd1':1,'d2':1,'K1':1,'K2':1,'mu':0.1,}  # Values common for the three sets\n",
    "p_neutral = {\"a1\": 1, \"b1\": 0, \"a2\":1, **p_common}           # Neutral set\n",
    "p_strong1 = {\"a1\": 1, \"b1\": 1, \"a2\":2, 'pN':0, 'pF':0, **p_common}            # Strong efficiency in environment 2\n",
    "p_strong2 = {\"a1\": 1, \"b1\": 1, \"a2\":2, 'pN':0.6, 'pF':0.6, **p_common}            # Strong efficiency in environment 2\n",
    "p_weak = {\"a1\": 2, \"b1\": -1, \"a2\":1, **p_common}             # Strong efficiency in environment 1"
   ]
  },
  {
   "cell_type": "code",
   "execution_count": 2,
   "metadata": {},
   "outputs": [],
   "source": [
    "def A(u, a, b):\n",
    "    \"\"\"Attack rate. Volume of prey cleared per unit of time.\n",
    "    Phenomenlogical model assuming a simple linear relationship between the time spent u\n",
    "    and the attack rate.\"\"\"\n",
    "    return(a + b * u)\n",
    "\n",
    "def F1_QSS(r, d1, K1, a1, b1, Nr, pF, **kwargs):\n",
    "    \"\"\"Quasi-Steady state approximation of the density of prey in env 1.\"\"\"\n",
    "    return( (d1*K1)/(A(r, a1, b1)*r*Nr + d1 + pF))\n",
    "           \n",
    "def F2_QSS(r, d2, K2, a2, b2, Nr,  pF, **kwargs):\n",
    "    \"\"\"Quasi-Steady state approximation of the density of prey in env 1.\"\"\"\n",
    "    return( (d2*K2)/(A(r, a2, b2)*(1-r)*Nr + d2 + pF))\n",
    "                 \n",
    "def beta(u, F1, F2, a1, b1, a2, b2):\n",
    "    \"\"\"Birth rate of a predator with trait u\"\"\"\n",
    "    return (  F1 * A(u, a1, b1) * u \n",
    "            + F2 * A(u, a2, b2) * (1-u)) \n",
    "\n",
    "def n_star_solve(r, a1, a2, b1, b2, K1, K2, d1, d2, mu, pF, pN, **kwargs):\n",
    "    \"\"\"Population size of the resident at equilibrium.\n",
    "    \n",
    "    The equilibrium of the resident is found by finding \n",
    "    its population size N* for which its growth rate is null. \n",
    "    \"\"\"\n",
    "    \n",
    "    def ToSolve(Nr):\n",
    "        F1_star = F1_QSS(r, d1, K1, a1, b1, Nr, pF)\n",
    "        F2_star = F2_QSS(r, d2, K2, a2, b2, Nr, pF)\n",
    "        growth_rate =  beta(r, F1_star, F2_star, a1, b1, a2, b2) - mu - pN\n",
    "        return(growth_rate)\n",
    "    # Rough estimate used to initialise the optimisation algorithm.\n",
    "    estimate = (d1*K1+d2*K2)/mu\n",
    "    \n",
    "    return scipy.optimize.fsolve(ToSolve,x0=estimate)"
   ]
  },
  {
   "cell_type": "code",
   "execution_count": 3,
   "metadata": {},
   "outputs": [],
   "source": [
    "def invasion_fitness(r,m, a1, b1, a2, b2, mu, K1, K2, d1, d2, pN, pF, **kwargs):\n",
    "    n_star = n_star_solve(r, a1, a2, b1, b2, K1, K2, d1, d2, mu, pF, pN)\n",
    "    F1_star = F1_QSS(r, d1, K1, a1, b1, n_star, pF)\n",
    "    F2_star = F2_QSS(r, d2, K2, a2, b2, n_star, pF)\n",
    "    mutant_growth_rate =  beta(m, F1_star, F2_star, a1, b1, a2, b2) - mu - pN\n",
    "    return(mutant_growth_rate)\n",
    "\n",
    "def PIP_matrix(r_vec, m_vec, a1, b1, a2, b2, mu, K1, K2, d1, d2, pN, pF, **kwargs):\n",
    "    dim1 = len(r_vec)\n",
    "    dim2 = len(m_vec)\n",
    "    S = np.zeros((dim1, dim2))\n",
    "    for i in range (dim1):\n",
    "        for j in range(dim2):\n",
    "            r = r_vec[i]\n",
    "            m = m_vec[j]\n",
    "            s = invasion_fitness(r,m, a1, b1, a2, b2, mu, K1, K2, d1, d2, pN, pF)\n",
    "            S[j,i] = s\n",
    "    return(S)"
   ]
  },
  {
   "cell_type": "code",
   "execution_count": 17,
   "metadata": {},
   "outputs": [
    {
     "data": {
      "image/png": "[encoded data removed]",
      "text/plain": [
       "<Figure size 432x288 with 1 Axes>"
      ]
     },
     "metadata": {
      "needs_background": "light"
     },
     "output_type": "display_data"
    }
   ],
   "source": [
    "r_vec= m_vec = np.linspace(0,1,100)\n",
    "S = PIP_matrix(r_vec, m_vec, **p_strong1)\n",
    "R, M = np.meshgrid(r_vec, m_vec)\n",
    "plt.contourf(R, M, S, levels=[np.min(S), 0, np.max(S)], colors=['w', 'k'])\n",
    "plt.show()"
   ]
  },
  {
   "cell_type": "code",
   "execution_count": 34,
   "metadata": {},
   "outputs": [
    {
     "data": {
      "image/png": "[encoded data removed]",
      "text/plain": [
       "<Figure size 432x288 with 1 Axes>"
      ]
     },
     "metadata": {
      "needs_background": "light"
     },
     "output_type": "display_data"
    }
   ],
   "source": [
    "r_vec= m_vec = np.linspace(0,1,100)\n",
    "S = PIP_matrix(r_vec, m_vec, **p_strong2)\n",
    "R, M = np.meshgrid(r_vec, m_vec)\n",
    "plt.contourf(R, M, S, levels=[np.min(S), 0, np.max(S)], colors=['w', 'k'])\n",
    "plt.show()"
   ]
  },
  {
   "cell_type": "markdown",
   "metadata": {},
   "source": [
    "## Implementing the model with fishing\n",
    "We add fishing in the model, targetting the predator, with an off-target effect on the prey.\n",
    "We note :\n",
    "- $p_F $ the fishing intensity of the preys\n",
    "- $p_N$ the fishing intensity of the predator\n",
    "\n",
    "\n",
    "Assuming $p_{F1} < p_{F2} < p_N $\n",
    "\n",
    "\n",
    "\\begin{equation*}\n",
    "\\begin{cases}\n",
    "\\frac{dF_1}{dt} = \\delta_1 (K_1 - F_1(t)) - F_1(t) N(t) u A_1(u) - u  p_{N}(N(t),k) p_{F_1} N(t)  F_1(t)  & \\text{Density of prey in env. 1} \\\\\n",
    "\\frac{dF_2}{dt} = \\delta_2 (K_2 - F_2(t)) - F_2(t)N(t) (1-u) A_2(u) - u  p_{N}(N(t),k)  p_{F_2} N(t) F_2(t) & \\text{Density of prey in env. 2} \\\\ \n",
    "\\frac{dN}{dt}  =  (\\beta(u) - u  p_{N}(N(t),k)- \\mu) N(t) & \\text{Density of fish} \\\\\n",
    "\\frac{dB}{dt}  = N(t) [\\eta_P  u  p_{N}(N(t),k) N(t) + \\eta_{F_1}  u  p_{N}(N(t),k)  p_{F_1}  F_1(t) + \\eta_{F_2}  u p_{N}(N(t),k)  p_{F_2} F_2(t)]& \\text{Harvested biomass}\n",
    "\\end{cases}\n",
    "\\end{equation*}\n",
    "\n",
    "\\begin{equation}\n",
    "\\beta(u) = \n",
    "\\underbrace{F_1(t)}_{\\text{(prey density)}}\n",
    "\\underbrace{A_1(u)}_{\\text{(search rate)}}\n",
    "\\underbrace{u}_{\\text{(time spent)}} + \n",
    "\\underbrace{F_2(t)}_{\\text{(prey density)}}\n",
    "\\underbrace{A_2(u)}_{\\text{(search rate)}}\n",
    "\\underbrace{(1-u)}_{\\text{(time spent)}} \\\\\n",
    "p_{N}(N(t)) = \\frac{{N(t)}^{k}}{{(K_m)}^{k} + {N(t)}^{k}}\n",
    "\\end{equation}"
   ]
  },
  {
   "cell_type": "markdown",
   "metadata": {},
   "source": [
    "## Hypothesis of the adaptive dynamics\n",
    "- The resident is at equilibrium ($N_r = N_r^*$)\n",
    "- The mutant population is small ($N_m << N_r$)\n",
    "On top of these fundamental hypothesis, we assume here that the dynamics of the prey is faster than the predator's (Quasi-Steady-State, QSS), yielding:\n",
    "\n",
    "\\begin{align*}\n",
    "\\frac{dF_1}{dt} = \\frac{dF_2}{dt} =& 0 \\\\ \n",
    "\\Leftrightarrow& \\begin{cases}\n",
    "F_1^*(N_r, N_m) = \\frac{\\delta_1 K_1}{\\delta_1 + N_r(t)rA_1(r) + N_m(t)mA_1(m) +p_{F_1} (r p_{N}(N_r(t),k)N_r(t) + m p_{N_m}(N_m(t),k))N_m(t) } & = \\frac{\\delta_1 K_1}{\\delta_1 + N_r^*[rA_1(r) + p_{F_1} r p_{N_r}(N_r^*,k) ]}\\\\\n",
    "F_2^*(N_r, N_m) = \\frac{\\delta_2 K_2}{\\delta_2 + N_r(t)(1-r)A_2(r) + N_m(t)(1-m)A_2(m) + p_{F_2} (r p_{N}(N_r(t),k)N_r(t) + m p_{N_m}(N_m(t),k)N_m(t))} & = \\frac{\\delta_2 K_2}{\\delta_2 + N_r^*[(1-r)A_2(r) + p_{F_2} r p_{N_r}(N_r^*,k)]}\\\\\n",
    "\\end{cases}\n",
    "\\end{align*}\n",
    "\n",
    "\n",
    "The system becomes:\n",
    "\n",
    "\\begin{align}\n",
    "\\begin{cases}\n",
    "\\frac{dN_r}{dt} &= [\\beta(r, N_r(t), N_m(t))  - p_N(N_r(t))- \\mu] N_r(t)- p_N N_r(t)\\\\\n",
    "\\frac{dN_m}{dt} &= [\\beta(m, N_r(t), N_m(t)) - \\mu - p_N] N_m(t)\\\\\n",
    "\\end{cases}\n",
    "\\end{align}\n",
    "\n",
    "Finding $N_r^*$ is not trivial, we'll do it numerically. Nevertheless we\n",
    "can have a ballpark estimation by considering that\n",
    "$\\delta_1<< N_r^*[rA_1(r) + p_{F_1} r p_{N_r}(N_r^*,k) ]$, $\\delta_2<< N_r^*[(1-r)A_2(r) + p_{F_2} r p_{N_r}(N_r^*,k)]$:\n",
    "\n",
    "\\begin{align*}\n",
    "\\beta(r, N_r(t), N_m(t))  - r  p_{N}(N_r^*,k)- \\mu &= 0\\\\\n",
    "\\frac{\\delta_1 K_1 A_1(r) r}{\\delta_1 + N_r^*[rA_1(r) + p_{F_1} r p_{N_r}(N_r^*,k) ]} + \\frac{\\delta_2 K_2 A_2(r) r}{\\delta_2 + N_r^*[(1-r)A_2(r) + p_{F_2} r p_{N_r}(N_r^*,k)]} - r  p_{N}(N_r^*,k)- \\mu &= 0\\\\\n",
    "\\frac{\\delta_1 K_1 A_1(r) r}{A_1(r)rN^*} + \\frac{\\delta_2 K_2 A_2(r) r}{A_2(r)rN^*}  &\\approx \\mu + p_N\\\\\n",
    "N^* &\\approx \\frac{\\delta_1 K_1 + \\delta_2 K_2}{\\mu + p_N}\\\\\n",
    "\\end{align*}\n",
    "\n",
    "Our goal is to compute the invasion growth rate of a mutant (with trait\n",
    "$m$) in an environment set by a resident (with trait value $r$). We\n",
    "denote this quantity $s_r(m)$.\n",
    "\n",
    "### Invasion fitness of the mutant\n",
    "\n",
    "The invasion fitness $s_r(m)$ is given by:\n",
    "\n",
    "\\begin{align*}\n",
    "s_r(m) =& \\beta(m, N^*, 0) - \\mu - p_N \\\\\n",
    "=& F_1(N^*, 0)mA_1(m) + F_2(N^*, 0)(1-m)A_2(1-m)\\\\\n",
    "\\end{align*}"
   ]
  },
  {
   "cell_type": "code",
   "execution_count": null,
   "metadata": {},
   "outputs": [],
   "source": []
  }
 ],
 "metadata": {
  "kernelspec": {
   "display_name": "Python 3",
   "language": "python",
   "name": "python3"
  },
  "language_info": {
   "codemirror_mode": {
    "name": "ipython",
    "version": 3
   },
   "file_extension": ".py",
   "mimetype": "text/x-python",
   "name": "python",
   "nbconvert_exporter": "python",
   "pygments_lexer": "ipython3",
   "version": "3.7.3"
  }
 },
 "nbformat": 4,
 "nbformat_minor": 2
}
