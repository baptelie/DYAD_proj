{
 "cells": [
  {
   "cell_type": "markdown",
   "metadata": {},
   "source": [
    "## Implementing the model with fishing\n",
    "We add fishing in the model, targetting the predator, with an off-target effect on the prey.\n",
    "We note :\n",
    "- $p_F $ the fishing intensity of the preys\n",
    "- $p_N$ the fishing intensity of the predator\n",
    "\n",
    "\n",
    "Assuming $p_F < p_N $\n",
    "\n",
    "\n",
    "\\begin{equation*}\n",
    "\\begin{cases}\n",
    "\\frac{dF_1}{dt} = \\delta_1 (K_1 - F_1(t)) - F_1(t)N(t)uA_1(u) - p_F F_1(t)  & \\text{Density of prey in env. 1} \\\\\n",
    "\\frac{dF_2}{dt} = \\delta_2 (K_2 - F_2(t)) - F_2(t)N(t)(1-u)A_2(u) - p_F F_2(t) & \\text{Density of prey in env. 2} \\\\ \n",
    "\\frac{dN}{dt}  =  (\\beta(u) - \\mu) N(t) - p_N N(t) & \\text{Density of fish}\n",
    "\\end{cases}\n",
    "\\end{equation*}\n",
    "\n",
    "\\begin{equation}\n",
    "\\beta(u) = \n",
    "\\underbrace{F_1(t)}_{\\text{(prey density)}}\n",
    "\\underbrace{A_1(u)}_{\\text{(search rate)}}\n",
    "\\underbrace{u}_{\\text{(time spent)}} + \n",
    "\\underbrace{F_2(t)}_{\\text{(prey density)}}\n",
    "\\underbrace{A_2(u)}_{\\text{(search rate)}}\n",
    "\\underbrace{(1-u)}_{\\text{(time spent)}}\n",
    "\\end{equation}"
   ]
  },
  {
   "cell_type": "markdown",
   "metadata": {},
   "source": [
    "## Hypothesis of the adaptive dynamics\n",
    "- The resident is at equilibrium ($N_r = N_r^*$)\n",
    "- The mutant population is small ($N_m << N_r$)\n",
    "On top of these fundamental hypothesis, we assume here that the dynamics of the prey is faster than the predator's (Quasi-Steady-State, QSS), yielding:\n",
    "\n",
    "\\begin{align*}\n",
    "\\frac{dF_1}{dt} = \\frac{dF_2}{dt} =& 0 \\\\ \n",
    "\\Leftrightarrow& \\begin{cases}\n",
    "F_1^*(N_r, N_m) = \\frac{\\delta_1 K_1}{\\delta_1 + N_r(t)rA_1(r) + N_m(t)mA_1(m) + p_F} & = \\frac{\\delta_1 K_1}{\\delta_1 + N_r^*rA_1(r) + p_F}\\\\\n",
    "F_2^*(N_r, N_m) = \\frac{\\delta_2 K_2}{\\delta_2 + N_r(t)(1-r)A_2(r) + N_m(t)(1-m)A_2(m) + p_F} & = \\frac{\\delta_2 K_2}{\\delta_2 + N_r^*(1-r)A_2(r) + p_F}\\\\\n",
    "\\end{cases}\n",
    "\\end{align*}\n",
    "\n",
    "\n",
    "The system becomes:\n",
    "\n",
    "\\begin{align}\n",
    "\\begin{cases}\n",
    "\\frac{dN_r}{dt} &= [\\beta(r, N_r(t), N_m(t)) - \\mu - p_N] N_r(t)- p_N N_r(t)\\\\\n",
    "\\frac{dN_m}{dt} &= [\\beta(m, N_r(t), N_m(t)) - \\mu - p_N] N_m(t)\\\\\n",
    "\\end{cases}\n",
    "\\end{align}\n",
    "\n",
    "Finding $N_r^*$ is not trivial, we'll do it numerically. Nevertheless we\n",
    "can have a ballpark estimation by considering that\n",
    "$\\delta_1<< A_1(r)N^*$, $\\delta_2<< A_2(r)N^*$, and $p_F<< A_1(r)N^*$ and $A_2(r)N^*$:\n",
    "\n",
    "\\begin{align*}\n",
    "\\beta(r, N_r(t), N_m(t)) - \\mu - p_N&= 0\\\\\n",
    "\\frac{\\delta_1 K_1 A_1(r) r}{A_1(r)rN^*+\\delta_1+p_F} + \\frac{\\delta_2 K_2 A_2(r) r}{A_2(r)rN^*+\\delta_2+p_F} - \\mu - p_N &= 0\\\\\n",
    "\\frac{\\delta_1 K_1 A_1(r) r}{A_1(r)rN^*} + \\frac{\\delta_2 K_2 A_2(r) r}{A_2(r)rN^*}  &\\approx \\mu + p_N\\\\\n",
    "N^* &\\approx \\frac{\\delta_1 K_1 + \\delta_2 K_2}{\\mu + p_N}\\\\\n",
    "\\end{align*}\n"
   ]
  },
  {
   "cell_type": "code",
   "execution_count": null,
   "metadata": {},
   "outputs": [],
   "source": []
  },
  {
   "cell_type": "code",
   "execution_count": null,
   "metadata": {},
   "outputs": [],
   "source": []
  }
 ],
 "metadata": {
  "kernelspec": {
   "display_name": "Python 3",
   "language": "python",
   "name": "python3"
  },
  "language_info": {
   "codemirror_mode": {
    "name": "ipython",
    "version": 3
   },
   "file_extension": ".py",
   "mimetype": "text/x-python",
   "name": "python",
   "nbconvert_exporter": "python",
   "pygments_lexer": "ipython3",
   "version": "3.7.3"
  }
 },
 "nbformat": 4,
 "nbformat_minor": 2
}
